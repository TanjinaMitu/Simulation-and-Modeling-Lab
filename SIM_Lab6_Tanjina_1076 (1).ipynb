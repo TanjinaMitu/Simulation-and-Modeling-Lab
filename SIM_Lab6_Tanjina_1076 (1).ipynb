{
  "nbformat": 4,
  "nbformat_minor": 0,
  "metadata": {
    "colab": {
      "provenance": []
    },
    "kernelspec": {
      "name": "python3",
      "display_name": "Python 3"
    },
    "language_info": {
      "name": "python"
    }
  },
  "cells": [
    {
      "cell_type": "code",
      "execution_count": 8,
      "metadata": {
        "id": "ecHIFL1jotI5"
      },
      "outputs": [],
      "source": [
        "# Hypothesis testing concepts: Two-Sample t-Test\n",
        "import numpy as np\n",
        "import scipy.stats as stats\n",
        "import matplotlib.pyplot as plt"
      ]
    },
    {
      "cell_type": "code",
      "source": [
        "data1 = np.array([18.4, 19.1, 17.9, 18.7, 18.3])  # Sample 1\n",
        "data2 = np.array([20.2, 20.5, 20.1, 20.3, 20.4])  # Sample 2"
      ],
      "metadata": {
        "id": "FG_toOFbxwM9"
      },
      "execution_count": 2,
      "outputs": []
    },
    {
      "cell_type": "markdown",
      "source": [
        "We use equal variances because the sample sizes are equal (n = 5 in each group), and the difference between sample variances is moderate — not extreme enough to violate the equal variance assumption."
      ],
      "metadata": {
        "id": "w-5PN18X290u"
      }
    },
    {
      "cell_type": "code",
      "source": [
        "t_statistic, p_value = stats.ttest_ind(data1, data2, equal_var=True)"
      ],
      "metadata": {
        "id": "oZZuR0FryOBd"
      },
      "execution_count": 3,
      "outputs": []
    },
    {
      "cell_type": "code",
      "source": [
        "\n",
        "# mean difference\n",
        "mean_diff = np.mean(data1) - np.mean(data2)\n",
        "\n",
        "# sample sizes\n",
        "n1, n2 = len(data1), len(data2)\n",
        "\n",
        "# sample variances\n",
        "s1_sq, s2_sq = np.var(data1, ddof=1), np.var(data2, ddof=1)\n",
        "\n",
        "# pooled variance\n",
        "sp_sq = ((n1 - 1) * s1_sq + (n2 - 1) * s2_sq) / (n1 + n2 - 2)\n",
        "\n",
        "# standard error using pooled variance\n",
        "std_err = np.sqrt(sp_sq * (1/n1 + 1/n2))\n",
        "\n",
        "# degrees of freedom\n",
        "df = n1 + n2 - 2\n",
        "\n",
        "# 95% confidence interval\n",
        "ci = stats.t.interval(0.95, df, loc=mean_diff, scale=std_err)"
      ],
      "metadata": {
        "id": "YHXspbYGyazF"
      },
      "execution_count": 5,
      "outputs": []
    },
    {
      "cell_type": "code",
      "source": [
        "print(f\"Sample 1 Mean: {np.mean(data1):.2f}\")\n",
        "print(f\"Sample 2 Mean: {np.mean(data2):.2f}\")\n",
        "print(f\"t-Statistic: {t_statistic:.2f}\")\n",
        "print(f\"Degrees of Freedom: {df:.2f}\")\n",
        "print(f\"p-Value: {p_value:.4f}\")\n",
        "print(f\"Confidence Interval of Mean Difference: [{ci[0]:.2f}, {ci[1]:.2f}]\")"
      ],
      "metadata": {
        "colab": {
          "base_uri": "https://localhost:8080/"
        },
        "id": "WUXsyb9tys09",
        "outputId": "fc4fbf3b-0e51-4744-cb50-93a702b9b0cf"
      },
      "execution_count": 6,
      "outputs": [
        {
          "output_type": "stream",
          "name": "stdout",
          "text": [
            "Sample 1 Mean: 18.48\n",
            "Sample 2 Mean: 20.30\n",
            "t-Statistic: -8.54\n",
            "Degrees of Freedom: 8.00\n",
            "p-Value: 0.0000\n",
            "Confidence Interval of Mean Difference: [-2.31, -1.33]\n"
          ]
        }
      ]
    },
    {
      "cell_type": "code",
      "source": [
        "alpha = 0.05  # Significance level\n",
        "if p_value < alpha:\n",
        "    print(\"Reject the null hypothesis. The means of the two samples are significantly different.\")\n",
        "else:\n",
        "    print(\"Fail to reject the null hypothesis. The means of the two samples are not significantly different.\")"
      ],
      "metadata": {
        "colab": {
          "base_uri": "https://localhost:8080/"
        },
        "id": "mhXhAC8-y8d9",
        "outputId": "fbe57600-72e8-4139-d259-daf5678fa7a6"
      },
      "execution_count": 7,
      "outputs": [
        {
          "output_type": "stream",
          "name": "stdout",
          "text": [
            "Reject the null hypothesis. The means of the two samples are significantly different.\n"
          ]
        }
      ]
    },
    {
      "cell_type": "markdown",
      "source": [
        "The average values in the two groups are significantly different. The second group has a higher average than the first."
      ],
      "metadata": {
        "id": "UFLS9fhH2cuu"
      }
    }
  ]
}