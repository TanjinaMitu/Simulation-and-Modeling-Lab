{
  "nbformat": 4,
  "nbformat_minor": 0,
  "metadata": {
    "colab": {
      "provenance": []
    },
    "kernelspec": {
      "name": "python3",
      "display_name": "Python 3"
    },
    "language_info": {
      "name": "python"
    }
  },
  "cells": [
    {
      "cell_type": "code",
      "execution_count": 13,
      "metadata": {
        "id": "sjBXboosj6-z"
      },
      "outputs": [],
      "source": [
        "import numpy as np\n",
        "from sympy import Matrix\n",
        "import matplotlib.pyplot as plt\n",
        "import seaborn as sns\n",
        "\n",
        "import random\n",
        "\n",
        "# 1. Determine range based on student ID\n",
        "student_id = \"76\"\n",
        "R = int(student_id[-2:])  # Extract last two digits of ID\n",
        "\n",
        "# 2. Number of points to generate\n",
        "num_points = 200 * 15"
      ]
    },
    {
      "cell_type": "code",
      "source": [
        "\n",
        "# 2. Generate points using two different random methods\n",
        "def generate_points(num_points, R):\n",
        "  inside = 0\n",
        "  outside = 0\n",
        "\n",
        "  # Half using random.uniform()\n",
        "  for _ in range(num_points // 2):\n",
        "    x = random.uniform(0, R / 10)\n",
        "    y = random.uniform(0, R / 10)\n",
        "    if is_inside_circle(x, y, R):\n",
        "      inside += 1\n",
        "    else:\n",
        "      outside += 1\n",
        "\n",
        "  # Half using numpy.random.rand() scaled to range\n",
        "  points = np.random.rand(num_points // 2, 2) * (R / 10)\n",
        "  for x, y in points:\n",
        "    if is_inside_circle(x, y, R):\n",
        "      inside += 1\n",
        "    else:\n",
        "      outside += 1\n",
        "\n",
        "  return inside, outside\n",
        "\n",
        "# 3. Keep a running count of points\n",
        "inside_count, outside_count = generate_points(num_points, R)\n",
        "print(\"Points inside the circle:\", inside_count)\n",
        "print(\"Points outside the circle:\", outside_count)"
      ],
      "metadata": {
        "colab": {
          "base_uri": "https://localhost:8080/"
        },
        "id": "3PeBRygjzeiv",
        "outputId": "70fa2db7-af60-4357-c029-321681420571"
      },
      "execution_count": 14,
      "outputs": [
        {
          "output_type": "stream",
          "name": "stdout",
          "text": [
            "Points inside the circle: 2384\n",
            "Points outside the circle: 616\n"
          ]
        }
      ]
    },
    {
      "cell_type": "code",
      "source": [
        "\n",
        "# Part 3 - Output & Analysis\n",
        "def estimate_pi_adjusted(num_points, R):\n",
        "    inside, _ = generate_points(num_points, R)\n",
        "    radius = R / 10\n",
        "    # Adjusted formula: π ≈ 4 * (Points inside / Total points) * (1 / r^2)\n",
        "    estimated_pi = 4 * (inside / num_points) * (1 / (radius ** 2))\n",
        "    math_pi = np.pi\n",
        "    error = abs(estimated_pi - math_pi)\n",
        "    return inside, estimated_pi, error\n",
        "\n",
        "# Minimum points from Part 1\n",
        "min_points = num_points\n",
        "point_multiples = [min_points, 2 * min_points, 3 * min_points, 4 * min_points, 5 * min_points]\n",
        "\n",
        "# Print results in tabular format\n",
        "print(\"Range Used | Total Points | Points Inside | Estimated π | Error from math.pi\")\n",
        "for points in point_multiples:\n",
        "    points_inside, estimated_pi, error = estimate_pi_adjusted(points, R)\n",
        "    print(f\"{R/10} | {points} | {points_inside} | {estimated_pi:.6f} | {error:.6f}\")"
      ],
      "metadata": {
        "colab": {
          "base_uri": "https://localhost:8080/"
        },
        "id": "BbfY5QlKzn5F",
        "outputId": "038c4bc1-397e-4ab9-e634-4fa0fcc1dcda"
      },
      "execution_count": 15,
      "outputs": [
        {
          "output_type": "stream",
          "name": "stdout",
          "text": [
            "Range Used | Total Points | Points Inside | Estimated π | Error from math.pi\n",
            "7.6 | 3000 | 2325 | 0.053670 | 3.087922\n",
            "7.6 | 6000 | 4686 | 0.054086 | 3.087507\n",
            "7.6 | 9000 | 7039 | 0.054163 | 3.087430\n",
            "7.6 | 12000 | 9373 | 0.054092 | 3.087501\n",
            "7.6 | 15000 | 11820 | 0.054571 | 3.087022\n"
          ]
        }
      ]
    }
  ]
}