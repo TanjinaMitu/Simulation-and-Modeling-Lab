{
  "nbformat": 4,
  "nbformat_minor": 0,
  "metadata": {
    "colab": {
      "provenance": []
    },
    "kernelspec": {
      "name": "python3",
      "display_name": "Python 3"
    },
    "language_info": {
      "name": "python"
    }
  },
  "cells": [
    {
      "cell_type": "code",
      "execution_count": 1,
      "metadata": {
        "id": "iJiw90Ziikfi"
      },
      "outputs": [],
      "source": [
        "# One-Sample t-Test with Python\n",
        "\n",
        "# Import necessary libraries\n",
        "import numpy as np\n",
        "from scipy import stats\n",
        "import matplotlib.pyplot as plt"
      ]
    },
    {
      "cell_type": "code",
      "source": [
        "# Generate the dataset based on the given rule\n",
        "\n",
        "# last two digits of My ID = 76\n",
        "\n",
        "k = 76\n",
        "\n",
        "# Generate 12 exam scores: 60 + randint(0,15,size=12) + (k % 5)\n",
        "\n",
        "np.random.seed(0)  # for reproducibility\n",
        "exam_scores = 60 + np.random.randint(0, 15, size=12) + (k % 5)\n",
        "\n",
        "# Display the dataset\n",
        "print(\"Sample Exam Scores:\", exam_scores)"
      ],
      "metadata": {
        "colab": {
          "base_uri": "https://localhost:8080/"
        },
        "id": "qShdIun6i4aI",
        "outputId": "b0f82289-3005-4697-dc51-7e95ea291378"
      },
      "execution_count": 2,
      "outputs": [
        {
          "output_type": "stream",
          "name": "stdout",
          "text": [
            "Sample Exam Scores: [73 66 61 64 72 64 68 70 64 66 63 65]\n"
          ]
        }
      ]
    },
    {
      "cell_type": "code",
      "source": [
        "# 1. State the Hypothesis\n",
        "\n",
        "# H0: The population mean is equal to 65\n",
        "# H1: The population mean is different from 65\n",
        "\n",
        "hypothesized_mean = 65\n"
      ],
      "metadata": {
        "id": "w9QsVpNQjYvu"
      },
      "execution_count": 8,
      "outputs": []
    },
    {
      "cell_type": "code",
      "source": [
        "# 2. Perform the one-sample t-test\n",
        "\n",
        "t_statistic, p_value = stats.ttest_1samp(exam_scores, popmean=hypothesized_mean)\n",
        "sample_mean = np.mean(exam_scores)\n",
        "df = len(exam_scores) - 1\n",
        "\n",
        "print(\"\\nSample Mean:\", sample_mean)\n",
        "print(\"Hypothesized Mean:\", hypothesized_mean)\n",
        "print(\"t-Statistic:\", t_statistic)\n",
        "print(\"Degrees of Freedom:\", df)\n",
        "print(\"p-Value:\", p_value)"
      ],
      "metadata": {
        "colab": {
          "base_uri": "https://localhost:8080/"
        },
        "id": "m6Y0ug--jmM6",
        "outputId": "04ba162a-74fa-4d13-f291-ce2e4968d3c4"
      },
      "execution_count": 9,
      "outputs": [
        {
          "output_type": "stream",
          "name": "stdout",
          "text": [
            "\n",
            "Sample Mean: 66.33333333333333\n",
            "Hypothesized Mean: 65\n",
            "t-Statistic: 1.2480072611542747\n",
            "Degrees of Freedom: 11\n",
            "p-Value: 0.23794057357164994\n"
          ]
        }
      ]
    },
    {
      "cell_type": "code",
      "source": [
        "# 3. Compute the 95% Confidence Interval\n",
        "\n",
        "confidence_level = 0.95\n",
        "sem = stats.sem(exam_scores)  # Standard Error of the Mean\n",
        "ci = stats.t.interval(confidence_level, df, loc=sample_mean, scale=sem)\n",
        "print(\"\\n95% Confidence Interval for Sample Mean:\", ci)"
      ],
      "metadata": {
        "colab": {
          "base_uri": "https://localhost:8080/"
        },
        "id": "sq33qPG0jxVN",
        "outputId": "da887dcb-536b-44ec-fca6-2ac8264c4f1a"
      },
      "execution_count": 10,
      "outputs": [
        {
          "output_type": "stream",
          "name": "stdout",
          "text": [
            "\n",
            "95% Confidence Interval for Sample Mean: (np.float64(63.98186714282707), np.float64(68.68479952383959))\n"
          ]
        }
      ]
    },
    {
      "cell_type": "code",
      "source": [
        "# 4. Decision based on alpha = 0.05\n",
        "\n",
        "alpha = 0.05\n",
        "if p_value < alpha:\n",
        "    decision = \"Reject H0: The population mean is significantly different from 65.\"\n",
        "else:\n",
        "    decision = \"Fail to reject H0: No significant difference from 65.\"\n",
        "\n",
        "print(\"\\nDecision:\", decision)"
      ],
      "metadata": {
        "colab": {
          "base_uri": "https://localhost:8080/"
        },
        "id": "j93D7zMkj-n9",
        "outputId": "925ba1cd-214c-4878-d622-2c64975003a2"
      },
      "execution_count": 11,
      "outputs": [
        {
          "output_type": "stream",
          "name": "stdout",
          "text": [
            "\n",
            "Decision: Fail to reject H0: No significant difference from 65.\n"
          ]
        }
      ]
    },
    {
      "cell_type": "code",
      "source": [
        "# 5. Visualization\n",
        "\n",
        "plt.figure(figsize=(8,6))\n",
        "plt.errorbar(x=[0], y=[sample_mean], yerr=[sem], fmt='o', capsize=10, label='Sample Mean ± 1 SE', color='blue')\n",
        "plt.axhline(hypothesized_mean, color='red', linestyle='--', label='Hypothesized Mean (65)')\n",
        "plt.xlim(-1,1)\n",
        "plt.xticks([])\n",
        "plt.ylabel('Exam Scores')\n",
        "plt.title('One-Sample t-Test Visualization')\n",
        "plt.legend()\n",
        "plt.show()"
      ],
      "metadata": {
        "colab": {
          "base_uri": "https://localhost:8080/",
          "height": 521
        },
        "id": "B8yejWvulWqx",
        "outputId": "847596cd-d9e1-459d-a78e-c39352568827"
      },
      "execution_count": 12,
      "outputs": [
        {
          "output_type": "display_data",
          "data": {
            "text/plain": [
              "<Figure size 800x600 with 1 Axes>"
            ],
            "image/png": "[encoded data removed]"
          },
          "metadata": {}
        }
      ]
    }
  ]
}